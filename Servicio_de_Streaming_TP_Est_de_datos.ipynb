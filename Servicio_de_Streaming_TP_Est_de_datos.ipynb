{
  "nbformat": 4,
  "nbformat_minor": 0,
  "metadata": {
    "colab": {
      "provenance": [],
      "include_colab_link": true
    },
    "kernelspec": {
      "name": "python3",
      "display_name": "Python 3"
    },
    "language_info": {
      "name": "python"
    }
  },
  "cells": [
    {
      "cell_type": "markdown",
      "metadata": {
        "id": "view-in-github",
        "colab_type": "text"
      },
      "source": [
        "<a href=\"https://colab.research.google.com/github/nancysalva/Mi_Primer_Proyecto/blob/main/Servicio_de_Streaming_TP_Est_de_datos.ipynb\" target=\"_parent\"><img src=\"https://colab.research.google.com/assets/colab-badge.svg\" alt=\"Open In Colab\"/></a>"
      ]
    },
    {
      "cell_type": "markdown",
      "source": [
        "# **Manejo de una Plataforma de Streaming**\n"
      ],
      "metadata": {
        "id": "20NBscezsT9U"
      }
    },
    {
      "cell_type": "markdown",
      "source": [
        "Integrantes: Hernan Pezoa, Micaela Rojas, Nancy Salvatierra\n",
        "\n",
        "Trello ▶ https://trello.com/b/CJVYOqRs/tp-estructura-de-datos\n",
        "\n",
        "Drive  ▶ https://drive.google.com/drive/folders/11NyUvcrCN_lpnTZM50tkrc12VwYOWiGm"
      ],
      "metadata": {
        "id": "0HP3ZqjKumf3"
      }
    },
    {
      "cell_type": "markdown",
      "source": [
        "**Clases e interfaces** :\n",
        "* Define una clase Usuario que encapsule la información básica de un\n",
        "usuario (nombre, edad, preferencias, historial de visualización).\n",
        "* Define otra clase Contenido para gestionar películas, series, episodios,\n",
        "duración, género, y su popularidad. Crea interfaces que permitan añadir\n",
        "contenido nuevo, gestionar usuarios, y su interacción con la plataforma"
      ],
      "metadata": {
        "id": "jSlozxRfrars"
      }
    },
    {
      "cell_type": "code",
      "source": [
        "class Nodo:\n",
        "#Clase nodo para la lista enlazada\n",
        "    def __init__(self, dato):\n",
        "        self.dato = dato\n",
        "        self.siguiente = None\n",
        "\n",
        "class ListaEnlazada:\n",
        "#Clase para manejar nodos\n",
        "    def __init__(self):\n",
        "        self.cabeza = None\n",
        "\n",
        "    def agregar(self, dato):\n",
        "#Agrega un nuevo nodo al final de la lista\n",
        "        nuevo_nodo = Nodo(dato)\n",
        "        if not self.cabeza:\n",
        "            self.cabeza = nuevo_nodo\n",
        "        else:\n",
        "            actual = self.cabeza\n",
        "            while actual.siguiente:\n",
        "                actual = actual.siguiente\n",
        "            actual.siguiente = nuevo_nodo\n",
        "\n",
        "\n",
        "    def mostrar(self):\n",
        "#Muestra los datos de la lista enlazada\n",
        "        actual = self.cabeza\n",
        "        while actual:\n",
        "            if isinstance(actual.dato, Contenido):  # Para mostrar el historial\n",
        "                print(f\"- {actual.dato.titulo} ({actual.dato.duracion} min, {actual.dato.genero})\")\n",
        "            elif isinstance(actual.dato, Usuario):  # Para mostrar usuarios\n",
        "                print(f\"- Usuario: {actual.dato.nombre}, Edad: {actual.dato.edad}\")\n",
        "            actual = actual.siguiente\n",
        "#Clase Usuario\n",
        "class Usuario:\n",
        "    def __init__(self, nombre, edad, preferencias):\n",
        "        self.nombre = nombre\n",
        "        self.edad = edad\n",
        "        self.preferencias = preferencias  # Gustos del usuario\n",
        "        self.historial = ListaEnlazada()  # Historial de contenido visto como lista enlazada\n",
        "\n",
        "    def visto(self, contenido):\n",
        "#Agrega Contenido al historial del usuario\n",
        "        self.historial.agregar(contenido)\n",
        "        print(f\"{self.nombre} ha visto '{contenido.titulo}'.\")\n",
        "\n",
        "    def mostrar_historial(self):\n",
        "# Muestra el historial de visualización del usuario.\n",
        "        print(f\"Historial de {self.nombre}:\")\n",
        "        self.historial.mostrar()\n",
        "\n",
        "class Contenido:\n",
        "#Clase Contenido con título, duración, género y popularidad.\n",
        "    def __init__(self, titulo, duracion, genero, popularidad):\n",
        "        self.titulo = titulo\n",
        "        self.duracion = duracion\n",
        "        self.genero = genero\n",
        "        self.popularidad = popularidad\n",
        "\n",
        "    def mostrar_info(self):\n",
        "       # Muestra la información del contenido.\n",
        "        print(f\"{self.titulo} | Duración: {self.duracion} min | Género: {self.genero} | Popularidad: {self.popularidad}\")\n",
        "\n",
        "class Plataforma:\n",
        "#Clase Plataforma para gestionar usuarios y contenido.\n",
        "    def __init__(self):\n",
        "        self.usuarios = ListaEnlazada()  # Lista de usuarios en la plataforma como lista enlazada\n",
        "        self.contenidos = ListaEnlazada()  # Lista de contenido disponible como lista enlazada\n",
        "\n",
        "    def agregar_usuario(self, usuario):\n",
        "#Agrega un usuario a la plataforma\n",
        "        self.usuarios.agregar(usuario)\n",
        "        print(f\"Usuario '{usuario.nombre}' añadido.\")\n",
        "\n",
        "    def agregar_contenido(self, contenido):\n",
        "#Agrega contenido a la plataforma\n",
        "        self.contenidos.agregar(contenido)\n",
        "        print(f\"Contenido '{contenido.titulo}' añadido.\")"
      ],
      "metadata": {
        "id": "JIVL5Q2foRxn"
      },
      "execution_count": null,
      "outputs": []
    },
    {
      "cell_type": "markdown",
      "source": [
        "**Estructuras Recursivas**:\n",
        "* Implementa un algoritmo recursivo que permita a los usuarios buscar y\n",
        "clasificar el contenido según sus preferencias y visualizaciones previas,\n",
        "generando recomendaciones personalizadas."
      ],
      "metadata": {
        "id": "ZI43BNXsroh4"
      }
    },
    {
      "cell_type": "code",
      "source": [
        "   def buscar_recomendaciones(self, nodo_contenido, usuario, recomendaciones):\n",
        "#Busca recomendaciones para el usuario de forma recursiva.\n",
        "        if not nodo_contenido:\n",
        "            return recomendaciones\n",
        "\n",
        "        contenido_actual = nodo_contenido.dato\n",
        "        if contenido_actual.genero in usuario.preferencias and not self.contenido_visto(usuario.historial.cabeza, contenido_actual.titulo):\n",
        "            recomendaciones.append(contenido_actual)\n",
        "\n",
        "        return self.buscar_recomendaciones(nodo_contenido.siguiente, usuario, recomendaciones)\n",
        "\n",
        "\n",
        "\n",
        "    def contenido_visto(self, nodo_historial, titulo):\n",
        "#Verifica si el usuario ha visto el contenido de forma recursiva\n",
        "        if not nodo_historial:\n",
        "            return False\n",
        "        if nodo_historial.dato.titulo == titulo:\n",
        "            return True\n",
        "        return self.contenido_visto(nodo_historial.siguiente, titulo)\n",
        "\n",
        "    def recomendaciones(self, usuario):\n",
        "#Muestra recomendaciones para el usuario\n",
        "        recomendaciones = []\n",
        "        print(f\"Recomendaciones para {usuario.nombre}:\")\n",
        "\n",
        "        recomendaciones = self.buscar_recomendaciones(self.contenidos.cabeza, usuario, recomendaciones)\n",
        "\n",
        "        if recomendaciones:\n",
        "            for contenido in recomendaciones:\n",
        "                print(f\"- {contenido.titulo} ({contenido.genero}, Popularidad: {contenido.popularidad})\")\n",
        "        else:\n",
        "            print(\"No hay contenido que coincida con tus preferencias.\")\n"
      ],
      "metadata": {
        "id": "9f3r4oUqpcKk"
      },
      "execution_count": null,
      "outputs": []
    },
    {
      "cell_type": "code",
      "source": [
        " ##### USO DEL PROGRAMA\n",
        "if __name__ == \"__main__\":\n",
        "    plataforma = Plataforma()\n",
        "\n",
        "   #Agregar contenido\n",
        "    pelicula1 = Contenido(\"Cadena perpetua\", 142, \"Drama\", 9.3)\n",
        "    serie1 = Contenido(\"Metastasis\", 49, \"Drama\", 9.5)\n",
        "    episodio1 = Contenido(\"Piloto\", 60, \"Drama\", 8.0)  # Ejemplo de episodio\n",
        "    plataforma.agregar_contenido(pelicula1)\n",
        "    plataforma.agregar_contenido(serie1)\n",
        "    plataforma.agregar_contenido(episodio1)\n",
        "\n",
        "    # Agregar usuarios\n",
        "    usuario1 = Usuario(\"Juan\", 30, [\"Drama\", \"Acción\"])\n",
        "    plataforma.agregar_usuario(usuario1)\n",
        "\n",
        "    # Juan ve una película\n",
        "    usuario1.visto(pelicula1)\n",
        "\n",
        "    # Mostrar recomendaciones para Juan\n",
        "    plataforma.recomendaciones(usuario1)\n",
        "\n",
        "    # Mostrar el historial de Juan\n",
        "    usuario1.mostrar_historial()"
      ],
      "metadata": {
        "id": "VH4MlVvaqk2c"
      },
      "execution_count": null,
      "outputs": []
    },
    {
      "cell_type": "markdown",
      "source": [
        "**Arboles Binarios**\n",
        "* Utiliza un árbol binario de búsqueda para organizar el catálogo de contenido\n",
        "de la plataforma según popularidad (número de visualizaciones). El objetivo\n",
        "es permitir búsquedas rápidas de contenido más popular."
      ],
      "metadata": {
        "id": "SWiZHzPZs4vJ"
      }
    },
    {
      "cell_type": "code",
      "source": [
        "#La idea es que el arbol binario tome los nodos de la clase contenido y ordene\n",
        "# segun la popularidad, es decir, la cantidad de visualizaciones\n",
        "\n",
        "class NodoArbol:\n",
        "    def __init__(self, contenido):\n",
        "        self.contenido = contenido  # 'contenido' sera un objeto con el atributo 'popularidad'\n",
        "        self.izquierda = None\n",
        "        self.derecha = None\n",
        "\n",
        "class ArbolBinario:\n",
        "    def __init__(self):\n",
        "        self.raiz = None\n",
        "\n",
        "    def insertar(self, nuevo_contenido):\n",
        "        if self.raiz is None:\n",
        "            self.raiz = Nodo(nuevo_contenido)\n",
        "        else:\n",
        "            self._insertar_recursivo(self.raiz, nuevo_contenido)\n",
        "\n",
        "    def _insertar_recursivo(self, nodo, nuevo_contenido):\n",
        "        if nuevo_contenido.popularidad < nodo.contenido.popularidad:\n",
        "            if nodo.izquierda is None:\n",
        "                nodo.izquierda = Nodo(nuevo_contenido)\n",
        "            else:\n",
        "                self._insertar_recursivo(nodo.izquierda, nuevo_contenido)\n",
        "        else:\n",
        "            if nodo.derecha is None:\n",
        "                nodo.derecha = Nodo(nuevo_contenido)\n",
        "            else:\n",
        "                self._insertar_recursivo(nodo.derecha, nuevo_contenido)\n",
        "\n",
        "\n",
        "\n",
        "\n"
      ],
      "metadata": {
        "id": "kkoiQM8GtFYt"
      },
      "execution_count": null,
      "outputs": []
    },
    {
      "cell_type": "markdown",
      "source": [
        "**Árboles Generales (Unidad 4)**\n",
        "* Modela el catálogo de series como un árbol general, donde cada nodo\n",
        "representa una serie y sus ramas representan las temporadas y episodios.\n",
        "Los usuarios podrán recorrer este árbol para navegar entre episodios y\n",
        "temporadas."
      ],
      "metadata": {
        "id": "fwsRGhMNtGUs"
      }
    },
    {
      "cell_type": "code",
      "source": [
        "class NodoArbol:\n",
        "#Arbol general de las series\n",
        "    def __init__(self, nombre, episodio=None):\n",
        "        self.nombre = nombre\n",
        "        self.hijos = []\n",
        "        self.episodio = episodio  # Número de episodio si es un nodo de episodio\n",
        "\n",
        "def agregar_serie(arbol, nombre_serie):\n",
        "#Agrega una serie\n",
        "    if not arbol:\n",
        "        return NodoArbol(nombre_serie)\n",
        "    else:\n",
        "        arbol.hijos.append(NodoArbol(nombre_serie))\n",
        "        return arbol\n",
        "\n",
        "def agregar_temporada(arbol, nombre_serie, num_temporada):\n",
        "#Agrega una temporada\n",
        "    serie = buscar_nodo(arbol, nombre_serie)\n",
        "    if serie:\n",
        "        serie.hijos.append(NodoArbol(f\"Temporada {num_temporada}\"))\n",
        "\n",
        "def agregar_episodio(arbol, nombre_serie, num_temporada, num_episodio, nombre_episodio):\n",
        "#Agrega un episodio\n",
        "    serie = buscar_nodo(arbol, nombre_serie)\n",
        "    if serie:\n",
        "        temporada = buscar_nodo(serie, f\"Temporada {num_temporada}\")\n",
        "        if temporada:\n",
        "            temporada.hijos.append(NodoArbol(nombre_episodio, num_episodio))\n",
        "\n",
        "def buscar_nodo(nodo, nombre):\n",
        "#Busca un nodo por su nombre\n",
        "    if nodo.nombre == nombre:\n",
        "        return nodo\n",
        "    for hijo in nodo.hijos:\n",
        "        resultado = buscar_nodo(hijo, nombre)\n",
        "        if resultado:\n",
        "            return resultado\n",
        "    return None\n",
        "\n",
        "def mostrar_catalogo(arbol):\n",
        "#Muestra el catalogo de series\n",
        "    if not arbol:\n",
        "        print(\"El catálogo está vacío.\")\n",
        "        return\n",
        "\n",
        "    def recorrer_arbol(nodo, nivel=0):\n",
        "#Funcion recursiva para recorrer arbol\n",
        "        if nodo.episodio is not None:  # Es un episodio\n",
        "            print(\"  \" * nivel + f\"- Episodio {nodo.episodio}: {nodo.nombre}\")\n",
        "        else:\n",
        "            print(\"  \" * nivel + f\"- {nodo.nombre}\")\n",
        "        for hijo in nodo.hijos:\n",
        "            recorrer_arbol(hijo, nivel + 1)\n",
        "\n",
        "    recorrer_arbol(arbol)"
      ],
      "metadata": {
        "id": "LPCEuMwRtP86"
      },
      "execution_count": null,
      "outputs": []
    },
    {
      "cell_type": "markdown",
      "source": [
        "**Cola de Prioridades y Heap Binaria (Unidad 5):**\n",
        "* Implementa una cola de prioridades para gestionar las listas de\n",
        "reproducción o “watchlist” de los usuarios, priorizando el contenido más\n",
        "popular o reciente para recomendar."
      ],
      "metadata": {
        "id": "iXlvVur3tQkK"
      }
    },
    {
      "cell_type": "code",
      "source": [
        "class Nodo:\n",
        "    def __init__(self, contenido):\n",
        "        self.contenido = contenido\n",
        "        self.siguiente = None\n",
        "\n",
        "class Contenido:\n",
        "    def __init__(self, titulo, duracion, genero, popularidad):\n",
        "        self.titulo = titulo\n",
        "        self.duracion = duracion\n",
        "        self.genero = genero\n",
        "        self.popularidad = popularidad  # Valor numerico para indicar popularidad\n",
        "\n",
        "    def __repr__(self):\n",
        "        return f\"{self.titulo} (Duracion: {self.duracion}), (Genero: {self.genero}), (Popularidad: {self.popularidad})\"\n",
        "\n",
        "class ColaPrioridad:\n",
        "    def __init__(self):\n",
        "        self.cabeza = None\n",
        "\n",
        "    def agregar_con_prioridad(self, contenido):\n",
        "        nuevo_nodo = Nodo(contenido)\n",
        "        # Si la cola està vacia o el nuevo contenido tiene mayor prioridad que la cabeza actual\n",
        "        if not self.cabeza or contenido.popularidad > self.cabeza.contenido.popularidad:\n",
        "            nuevo_nodo.siguiente = self.cabeza\n",
        "            self.cabeza = nuevo_nodo\n",
        "\n",
        "        else:\n",
        "            actual = self.cabeza\n",
        "            # Recorrer la lista enlazada para insertar en la posiciòn correcta\n",
        "\n",
        "            while actual.siguiente and contenido.popularidad <= actual.siguiente.contenido.popularidad:\n",
        "                actual = actual.siguiente\n",
        "            nuevo_nodo.siguiente = actual.siguiente\n",
        "            actual.siguiente = nuevo_nodo\n",
        "\n",
        "    def mostrar_cola(self):\n",
        "        actual = self.cabeza\n",
        "        while actual:\n",
        "            print(actual.contenido)\n",
        "            actual = actual.siguiente\n",
        "# Datos de ejemplo para la lista de reproducciòn\n",
        "contenido1 = Contenido(\"Pelicula A\", 143, \"drama\", 7.6)\n",
        "contenido2 = Contenido(\"Serie B\", 90, \"accion\", 9.3)\n",
        "contenido3 = Contenido(\"Pelicula C\", 120, \"comedia\", 8.2)\n",
        "\n",
        "# Crear la cola de prioridad y agregar contenido\n",
        "cola = ColaPrioridad()\n",
        "cola.agregar_con_prioridad(contenido1)\n",
        "cola.agregar_con_prioridad(contenido2)\n",
        "cola.agregar_con_prioridad(contenido3)\n",
        "\n",
        "# Mostrar la cola de prioridad\n",
        "print(\"Cola de Prioridad ordenada por popularidad:\")\n",
        "cola.mostrar_cola()"
      ],
      "metadata": {
        "id": "z8yztoYAtW0g",
        "colab": {
          "base_uri": "https://localhost:8080/"
        },
        "outputId": "0bde3863-7640-4407-ad08-3b2842147077"
      },
      "execution_count": null,
      "outputs": [
        {
          "output_type": "stream",
          "name": "stdout",
          "text": [
            "Cola de Prioridad ordenada por popularidad:\n",
            "Serie B (Duracion: 90), (Genero: accion), (Popularidad: 9.0)\n",
            "Pelicula C (Duracion: 120), (Genero: comedia), (Popularidad: 8.2)\n",
            "Pelicula A (Duracion: 143), (Genero: drama), (Popularidad: 7.6)\n"
          ]
        }
      ]
    },
    {
      "cell_type": "code",
      "source": [
        "import heapq\n",
        "class Contenido:\n",
        "  def __init__(self, titulo, duracion, genero, popularidad):\n",
        "    self.titulo = titulo\n",
        "    self.duracion = duracion\n",
        "    self.genero = genero\n",
        "    self.popularidad = popularidad # Valor numerico para representar la popularidad\n",
        "\n",
        "  def __lt__(self, otro):\n",
        "\n",
        "# Priorizar por populridad, si es igual, priorizar por genero\n",
        "\n",
        "    if self.popularidad != otro.popularidad:\n",
        "      return self.popularidad > otro.popularidad\n",
        "    else:\n",
        "      if self.genero != otro.genero:\n",
        "        return self.genero < otro.genero\n",
        "\n",
        "  def __repr__(self):\n",
        "    return f\"{self.titulo} (Duracion: {self.duracion}), (Genero: {self.genero}), (Popularidad: {self.popularidad})\"\n",
        "\n",
        "class HeapRecomendaciones:\n",
        "  def __init__(self):\n",
        "    self.heap = []\n",
        "\n",
        "  def agregar_contenido(self, contenido):\n",
        "    heapq.heappush(self.heap, contenido)\n",
        "\n",
        "  def mostrar_recomendaciones(self):\n",
        "    if self.heap:\n",
        "      return heapq.heappop(self.heap)\n",
        "\n",
        "    else:\n",
        "      return(\"No hay recomendaciones disponibles.\")\n",
        "\n",
        "  def mostrar_contenido(self):\n",
        "      print (\"contenido en el heap ordenado por prioridad:\")\n",
        "      for contenido in self.heap:\n",
        "        print(contenido)\n",
        "\n",
        "# Datos de ejemplo para la lista de reproduccion\n",
        "contenido1 = Contenido(\"Pelicula A\", 143, \"drama\", 7.6)\n",
        "contenido2 = Contenido(\"Serie B\", 90, \"accion\", 9.3)\n",
        "contenido3 = Contenido(\"Pelicula C\", 120, \"comedia\", 8.2)\n",
        "\n",
        "# Crear el heap de recomendaciones y agregar contenido\n",
        "heap_recomendaciones = HeapRecomendaciones()\n",
        "heap_recomendaciones.agregar_contenido(contenido1)\n",
        "heap_recomendaciones.agregar_contenido(contenido2)\n",
        "heap_recomendaciones.agregar_contenido(contenido3)\n",
        "\n",
        "# Mostrar las recomendaciones\n",
        "heap_recomendaciones.mostrar_contenido()\n",
        "\n",
        "# Obtener y mostar la mejor recomendacion\n",
        "print(heap_recomendaciones.mostrar_recomendaciones())\n",
        "\n",
        "\n"
      ],
      "metadata": {
        "id": "K165E4u-Lnud",
        "colab": {
          "base_uri": "https://localhost:8080/"
        },
        "outputId": "499f6800-91b2-40be-d6e7-23aeae652a1f"
      },
      "execution_count": 2,
      "outputs": [
        {
          "output_type": "stream",
          "name": "stdout",
          "text": [
            "contenido en el heap ordenado por prioridad:\n",
            "Serie B (Duracion: 90), (Genero: accion), (Popularidad: 9.3)\n",
            "Pelicula A (Duracion: 143), (Genero: drama), (Popularidad: 7.6)\n",
            "Pelicula C (Duracion: 120), (Genero: comedia), (Popularidad: 8.2)\n",
            "Serie B (Duracion: 90), (Genero: accion), (Popularidad: 9.3)\n"
          ]
        }
      ]
    },
    {
      "cell_type": "markdown",
      "source": [
        "**Análisis de Algoritmos (Unidad 6):**\n",
        "* Analiza la eficiencia de los algoritmos implementados, desde la\n",
        "organización del catálogo hasta la generación de recomendaciones. Evalúa\n",
        "la complejidad temporal y espacial de cada operación (Explicar en la documentación?)"
      ],
      "metadata": {
        "id": "h4GSBJXmtXRA"
      }
    },
    {
      "cell_type": "markdown",
      "source": [
        "**Grafos (Unidad 7):**\n",
        "* Modela las relaciones entre el contenido mediante un grafo, donde los\n",
        "nodos son películas o series, y las aristas representan similitudes (por\n",
        "género, actores, o preferencia de usuarios). Utiliza este grafo para generar\n",
        "recomendaciones basadas en lo que otros usuarios con gustos similares\n",
        "han visto."
      ],
      "metadata": {
        "id": "IeZ31zIStgFt"
      }
    },
    {
      "cell_type": "code",
      "source": [
        "class Grafo:\n",
        "  def __init__(self):\n",
        "    self.grafo = {} # Diccionario para almacenar el grafo\n",
        "\n",
        "  def agregar_nodo(self, nodo):\n",
        "    if nodo not in self.grafo:\n",
        "      self.grafo[nodo] = []\n",
        "\n",
        "  def agregar_arista(self, nodo1, nodo2):\n",
        "    self.agregar_nodo(nodo1)\n",
        "    self.agregar_nodo(nodo2)\n",
        "    self.grafo[nodo1].append((nodo2))\n",
        "    self.grafo[nodo2].append((nodo1))\n",
        "\n",
        "  def obtener_vecinos(self, nodo):\n",
        "    return self.grafo.get(nodo, [])\n",
        "\n",
        "  def recomendacion(self, usuario, contenido_visto):\n",
        "    recomendaciones = []\n",
        "    for contenido in contenido_visto:\n",
        "      for vecino in self.obtener_vecinos(contenido):\n",
        "        if vecino not in contenido_visto and vecino not in recomendaciones:\n",
        "          recomendaciones.append(vecino)\n",
        "    return recomendaciones # Devolver solo los nodos recomendados\n",
        "  def DFS(self, nodo_inicial, visitados, contenido_visto, recomendaciones):\n",
        "       #Realiza un recorrido DFS en el grafo para encontrar recomendaciones.\n",
        "     visitados.add(nodo_inicial)\n",
        "     for vecino in self.obtener_vecinos(nodo_inicial):\n",
        "        if vecino not in visitados and vecino not in contenido_visto:\n",
        "          recomendaciones.append(vecino)\n",
        "          self.DFS(vecino, visitados, contenido_visto, recomendaciones)\n",
        "     return recomendaciones\n",
        "\n",
        "  def BFS(self, nodo_inicial, contenido_visto, recomendaciones):\n",
        "      #Recorrido BFS para recomendaciones\n",
        "    visitados = set([nodo_inicial])\n",
        "    cola = [nodo_inicial]\n",
        "    while cola:\n",
        "      nodo = cola.pop(0)\n",
        "      for vecino in self.obtener_vecinos(nodo):\n",
        "        if vecino not in visitados and vecino not in contenido_visto:\n",
        "          recomendaciones.append(vecino)\n",
        "          visitados.add(vecino)\n",
        "          cola.append(vecino)\n",
        "    return recomendaciones\n",
        "\n",
        "# Agregar contenido (peliculas, series) como nodos\n",
        "grafo.agregar_nodo(\"Pelicula A\")\n",
        "grafo.agregar_nodo(\"Serie B\")\n",
        "grafo.agregar_nodo(\"Pelicula C\")\n",
        "\n",
        "# Obtener recomendaciones para un usuario\n",
        "usuario1_historial = [\"Pelicula A\", \"Serie B\"] # Contenido que ha visto el usuario\n",
        "recomendaciones_usuario1 = grafo.recomendacion(usuario1, usuario1_historial)\n",
        "print(\"Recomendaciones para Usuario 1:\", recomendaciones_usuario1)\n"
      ],
      "metadata": {
        "id": "0NNW1tPht7VF",
        "outputId": "9334f5e5-e43d-481c-b955-f5f87bda1d80",
        "colab": {
          "base_uri": "https://localhost:8080/",
          "height": 222
        }
      },
      "execution_count": null,
      "outputs": [
        {
          "output_type": "error",
          "ename": "NameError",
          "evalue": "name 'grafo' is not defined",
          "traceback": [
            "\u001b[0;31m---------------------------------------------------------------------------\u001b[0m",
            "\u001b[0;31mNameError\u001b[0m                                 Traceback (most recent call last)",
            "\u001b[0;32m<ipython-input-1-1af55be9a031>\u001b[0m in \u001b[0;36m<cell line: 48>\u001b[0;34m()\u001b[0m\n\u001b[1;32m     46\u001b[0m \u001b[0;34m\u001b[0m\u001b[0m\n\u001b[1;32m     47\u001b[0m \u001b[0;31m# Agregar contenido (peliculas, series) como nodos\u001b[0m\u001b[0;34m\u001b[0m\u001b[0;34m\u001b[0m\u001b[0m\n\u001b[0;32m---> 48\u001b[0;31m \u001b[0mgrafo\u001b[0m\u001b[0;34m.\u001b[0m\u001b[0magregar_nodo\u001b[0m\u001b[0;34m(\u001b[0m\u001b[0;34m\"Pelicula A\"\u001b[0m\u001b[0;34m)\u001b[0m\u001b[0;34m\u001b[0m\u001b[0;34m\u001b[0m\u001b[0m\n\u001b[0m\u001b[1;32m     49\u001b[0m \u001b[0mgrafo\u001b[0m\u001b[0;34m.\u001b[0m\u001b[0magregar_nodo\u001b[0m\u001b[0;34m(\u001b[0m\u001b[0;34m\"Serie B\"\u001b[0m\u001b[0;34m)\u001b[0m\u001b[0;34m\u001b[0m\u001b[0;34m\u001b[0m\u001b[0m\n\u001b[1;32m     50\u001b[0m \u001b[0mgrafo\u001b[0m\u001b[0;34m.\u001b[0m\u001b[0magregar_nodo\u001b[0m\u001b[0;34m(\u001b[0m\u001b[0;34m\"Pelicula C\"\u001b[0m\u001b[0;34m)\u001b[0m\u001b[0;34m\u001b[0m\u001b[0;34m\u001b[0m\u001b[0m\n",
            "\u001b[0;31mNameError\u001b[0m: name 'grafo' is not defined"
          ]
        }
      ]
    },
    {
      "cell_type": "markdown",
      "source": [
        "**Recorridos DFS y BFS (Unidad 8):**\n",
        "* Implementa un recorrido DFS y BFS sobre el grafo de contenido para\n",
        "encontrar películas o series similares a las que un usuario ha visto. El DFS\n",
        "podría explorar a fondo un tipo de contenido específico, mientras que el BFS\n",
        "explorará de manera más amplia.\n"
      ],
      "metadata": {
        "id": "jEoMK7K1t761"
      }
    },
    {
      "cell_type": "code",
      "source": [
        "# El recorrido DFS y BFS ya lo definí en la clase grafo, este es un ejemplo de uso:\n",
        "grafo = Grafo()\n",
        "grafo.agregar_arista(\"Cadena perpetua\", \"Sueños de fuga\")  # Ambas son películas de drama\n",
        "grafo.agregar_arista(\"Sueños de fuga\", \"El caballero oscuro\")  # Ambas son películas de drama\n",
        "grafo.agregar_arista(\"El caballero oscuro\", \"Batman inicia\")  # Ambas son películas de acción\n",
        "grafo.agregar_arista(\"Cadena perpetua\", \"Interestelar\")  # Ambas son películas de ciencia ficción\n",
        "\n",
        "# Contenido visto por el usuario\n",
        "contenido_visto = [\"Cadena perpetua\", \"Sueños de fuga\"]\n",
        "\n",
        "# Obtener recomendaciones usando DFS\n",
        "recomendaciones_dfs = grafo.recomendacion(None, contenido_visto, \"DFS\")\n",
        "print(\"Recomendaciones DFS:\", recomendaciones_dfs)\n",
        "\n",
        "# Obtener recomendaciones usando BFS\n",
        "recomendaciones_bfs = grafo.recomendacion(None, contenido_visto, \"BFS\")\n",
        "print(\"Recomendaciones BFS:\", recomendaciones_bfs)"
      ],
      "metadata": {
        "id": "fMV9LAtKuBeb"
      },
      "execution_count": null,
      "outputs": []
    },
    {
      "cell_type": "markdown",
      "source": [
        "**Ordenamiento Topológico (Unidad 9):**\n",
        "* Usa ordenamiento topológico para gestionar la carga y visualización del\n",
        "contenido según restricciones de disponibilidad (por ejemplo,\n",
        "lanzamientos secuenciales de episodios o temporadas)."
      ],
      "metadata": {
        "id": "ZPt80MbwuC2K"
      }
    },
    {
      "cell_type": "code",
      "source": [],
      "metadata": {
        "id": "k6ekzyDbuJJQ"
      },
      "execution_count": null,
      "outputs": []
    },
    {
      "cell_type": "markdown",
      "source": [
        "**Problemas NP y Camino Mínimo (Unidad 10):**\n",
        "* Implementa el algoritmo de Dijkstra para encontrar la mejor secuencia de\n",
        "reproducción de contenido que maximice la satisfacción del usuario,\n",
        "teniendo en cuenta restricciones como tiempo disponible y preferencias."
      ],
      "metadata": {
        "id": "Q8G798RKuL-f"
      }
    },
    {
      "cell_type": "code",
      "source": [],
      "metadata": {
        "id": "lDcy5bXmuPxu"
      },
      "execution_count": null,
      "outputs": []
    }
  ]
}